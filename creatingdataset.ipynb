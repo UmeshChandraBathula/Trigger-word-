{
  "metadata": {
    "language_info": {
      "codemirror_mode": {
        "name": "python",
        "version": 3
      },
      "file_extension": ".py",
      "mimetype": "text/x-python",
      "name": "python",
      "nbconvert_exporter": "python",
      "pygments_lexer": "ipython3",
      "version": "3.8"
    },
    "kernelspec": {
      "name": "python",
      "display_name": "Python (Pyodide)",
      "language": "python"
    }
  },
  "nbformat_minor": 4,
  "nbformat": 4,
  "cells": [
    {
      "cell_type": "code",
      "source": "# New Generate Test Cases \nimport numpy as np \nimport math \nimport os,sys\nsys.path.append('../')\nos.environ['TF_CPP_MIN_LOG_LEVEL']='2'\n\nfrom td_utils import *\nimport warnings\nwarnings.filterwarnings(\"ignore\")\n\nfrom pydub import AudioSegment\n\nclass suppress_stdout_stderr(object):\n    '''\n    A context manager for doing a \"deep suppression\" of stdout and stderr in \n    Python, i.e. will suppress all print, even if the print originates in a \n    compiled C/Fortran sub-function.\n       This will not suppress raised exceptions, since exceptions are printed\n    to stderr just before a script exits, and after the context manager has\n    exited (at least, I think that is why it lets exceptions through).      \n\n    '''\n    def __init__(self):\n        # Open a pair of null files\n        self.null_fds =  [os.open(os.devnull,os.O_RDWR) for x in range(2)]\n        # Save the actual stdout (1) and stderr (2) file descriptors.\n        self.save_fds = [os.dup(1), os.dup(2)]\n\n    def __enter__(self):\n        # Assign the null pointers to stdout and stderr.\n        os.dup2(self.null_fds[0],1)\n        os.dup2(self.null_fds[1],2)\n\n    def __exit__(self, *_):\n        # Re-assign the real stdout/stderr back to (1) and (2)\n        os.dup2(self.save_fds[0],1)\n        os.dup2(self.save_fds[1],2)\n        # Close all file descriptors\n        for fd in self.null_fds + self.save_fds:\n            os.close(fd)\n\nwith suppress_stdout_stderr():\n  from solutions import *\n\n# import copy \n# from keras.callbacks import History \n# import tensorflow as tf\nsys.path.append('../../')\n\nfrom grader_support import stdout_redirector\nfrom grader_support import util\n\n\n\n\n# This grader is for the Emojify assignment\n\nmFiles = [\n    \"is_overlapping.py\",\n    \"insert_audio_clip.py\",\n    \"insert_ones.py\",\n    \"create_training_example.py\",\n    \"model.py\"\n]\n\nnp.random.seed(3)\n\n# generating the testCases for is_overlapping\noverlap1 = is_overlapping((900, 2500), [(2000, 2550), (260, 949)])\noverlap2 = is_overlapping((2306, 2307), [(824, 1532), (1900, 2305), (3424, 3656)])\n\n# generating the test cases for the insert_audio_clip\n# (2732, 3452), (4859, 5579)\na = AudioSegment.from_wav(\"activate.wav\")\nb = AudioSegment.from_wav(\"background.wav\")\naudio_clip, segment_time = insert_audio_clip(b, a, [(3790, 4400)])\naudio_clip.export('test.wav', format = 'wav')\n\ninserted = graph_spectrogram('test.wav')\n\n# generate the testCases for insert_ones\narr1 = insert_ones(np.zeros((1, Ty)), 9)\n\n# generate the test Cases for create_training_example\n\nn = AudioSegment.from_wav(\"negative.wav\")\n\nA = []\nN = []\nA.append(a)\nN.append(n)\n\nwith stdout_redirector.stdout_redirected():\n    a, s = create_training_example(b, A, N)\n\n\n# generating the test cases for the model \nwith suppress_stdout_stderr():\n    model = model(input_shape = (Tx, n_freq))\n    ml = len(model.layers)\n    cp = model.count_params()\n    mi = len(model.inputs)\n    mo = len(model.outputs)\n\ndef generateTestCases():\n\ttestCases = {\n\t    'is_overlapping': {\n\t        'partId': 'S8DvY',\n\t        'testCases': [\n\t            {\n\t                'testInput': ((900, 2500), [(2000, 2550), (260, 949)]),\n\t                'testOutput': overlap1\n\t            },\n                {\n                    'testInput': ((2306, 2307), [(824, 1532), (1900, 2305), (3424, 3656)]),\n                    'testOutput': overlap2\n                }\n\t        ]\n\t    },\n\t    'insert_audio_clip': { \n\t        'partId': 'BSIWi',\n\t        'testCases': [\n\t            {\n\t                'testInput': (\"activate.wav\", \"background.wav\"),\n\t                'testOutput': inserted\n\t            }\n\t        ]\n\t    },\n\t    'insert_ones': { \n\t        'partId': '2Kdnr',\n\t        'testCases': [\n\t            {\n\t                'testInput': (np.zeros((1, Ty)), 9) ,\n\t                'testOutput': arr1\n\t            }\n\t        ]\n\t    },\n\t    'create_training_example': { \n\t        'partId': 'v097u',\n\t        'testCases': [\n\t            {\n\t                'testInput': (b, A, N),\n\t                'testOutput': (a,s)\n\t            }\n\t        ]\n\t    },\n      'model': { \n          'partId': '0Txcd',\n          'testCases': [\n              {\n                  'testInput': (Tx, n_freq),\n                  'testOutput': np.asarray([cp, ml, mi, mo])\n              }\n          ]\n       }\n       }\n\treturn testCases\n",
      "metadata": {
        "trusted": true
      },
      "execution_count": 1,
      "outputs": [
        {
          "ename": "<class 'ModuleNotFoundError'>",
          "evalue": "No module named 'td_utils'",
          "traceback": [
            "\u001b[0;31m---------------------------------------------------------------------------\u001b[0m",
            "\u001b[0;31mModuleNotFoundError\u001b[0m                       Traceback (most recent call last)",
            "Cell \u001b[0;32mIn [1], line 8\u001b[0m\n\u001b[1;32m      5\u001b[0m sys\u001b[38;5;241m.\u001b[39mpath\u001b[38;5;241m.\u001b[39mappend(\u001b[38;5;124m'\u001b[39m\u001b[38;5;124m../\u001b[39m\u001b[38;5;124m'\u001b[39m)\n\u001b[1;32m      6\u001b[0m os\u001b[38;5;241m.\u001b[39menviron[\u001b[38;5;124m'\u001b[39m\u001b[38;5;124mTF_CPP_MIN_LOG_LEVEL\u001b[39m\u001b[38;5;124m'\u001b[39m]\u001b[38;5;241m=\u001b[39m\u001b[38;5;124m'\u001b[39m\u001b[38;5;124m2\u001b[39m\u001b[38;5;124m'\u001b[39m\n\u001b[0;32m----> 8\u001b[0m \u001b[38;5;28;01mfrom\u001b[39;00m \u001b[38;5;21;01mtd_utils\u001b[39;00m \u001b[38;5;28;01mimport\u001b[39;00m \u001b[38;5;241m*\u001b[39m\n\u001b[1;32m      9\u001b[0m \u001b[38;5;28;01mimport\u001b[39;00m \u001b[38;5;21;01mwarnings\u001b[39;00m\n\u001b[1;32m     10\u001b[0m warnings\u001b[38;5;241m.\u001b[39mfilterwarnings(\u001b[38;5;124m\"\u001b[39m\u001b[38;5;124mignore\u001b[39m\u001b[38;5;124m\"\u001b[39m)\n",
            "\u001b[0;31mModuleNotFoundError\u001b[0m: No module named 'td_utils'"
          ],
          "output_type": "error"
        }
      ]
    },
    {
      "cell_type": "code",
      "source": "|",
      "metadata": {},
      "execution_count": null,
      "outputs": []
    }
  ]
}